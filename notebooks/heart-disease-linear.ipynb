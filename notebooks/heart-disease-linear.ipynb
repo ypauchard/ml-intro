{
 "cells": [
  {
   "cell_type": "markdown",
   "metadata": {},
   "source": [
    "# Linear Models\n",
    "\n",
    "Apply a linear classifier, `SVC(kernel='linear')` to the heart disease dataset.\n",
    "\n",
    "The data is hosted on UCI https://archive.ics.uci.edu/ml/datasets/Heart+Disease\n",
    "\n",
    "we will need `heart-disease.names` and `processed.hungarian.data` from the data folder on UCI."
   ]
  },
  {
   "cell_type": "code",
   "execution_count": 1,
   "metadata": {},
   "outputs": [],
   "source": [
    "import numpy as np\n",
    "import pandas as pd\n",
    "import matplotlib.pyplot as plt\n",
    "import seaborn as sns"
   ]
  },
  {
   "cell_type": "markdown",
   "metadata": {},
   "source": [
    "# 1. Download the data"
   ]
  },
  {
   "cell_type": "code",
   "execution_count": 2,
   "metadata": {},
   "outputs": [
    {
     "name": "stdout",
     "output_type": "stream",
     "text": [
      "heart-disease.names found on disk\n",
      "processed.hungarian.data found on disk\n"
     ]
    }
   ],
   "source": [
    "import os\n",
    "import requests\n",
    "\n",
    "base_url = \"https://archive.ics.uci.edu/ml/machine-learning-databases/heart-disease/\"\n",
    "file_names = [\"heart-disease.names\", \"processed.hungarian.data\"]\n",
    "\n",
    "for file_name in file_names:\n",
    "    if not os.path.isfile(file_name):\n",
    "        print(f\"Downloading {file_name} from {base_url}\")\n",
    "        response = requests.get(base_url+file_name)\n",
    "        with open(file_name, 'wb') as f:\n",
    "            f.write(response.content)\n",
    "    else:\n",
    "        print(f\"{file_name} found on disk\")"
   ]
  },
  {
   "cell_type": "markdown",
   "metadata": {},
   "source": [
    "# 2. Prepare the data\n",
    "## 2.1 A look at the data files"
   ]
  },
  {
   "cell_type": "code",
   "execution_count": 3,
   "metadata": {},
   "outputs": [
    {
     "name": "stdout",
     "output_type": "stream",
     "text": [
      "Publication Request: \n",
      "   >>>>>>>>>>>>>>>>>>>>>>>>>>>>>>>>>>>>>>>>>>>>>>>>>>>>>>>>>>>>>>>>>>>>>>\n",
      "   This file describes the contents of the heart-disease directory.\n",
      "\n",
      "   This directory contains 4 databases concerning heart disease diagnosis.\n",
      "   All attributes are numeric-valued.  The data was collected from the\n",
      "   four following locations:\n",
      "\n",
      "     1. Cleveland Clinic Foundation (cleveland.data)\n",
      "     2. Hungarian Institute of Cardiology, Budapest (hungarian.data)\n",
      "     3. V.A. Medical Center, Long Beach, CA (long-beach-va.data)\n",
      "     4. University Hospital, Zurich, Switzerland (switzerland.data)\n",
      "\n",
      "   Each database has the same instance format.  While the databases have 76\n",
      "   raw attributes, only 14 of them are actually used.  Thus I've taken the\n",
      "   liberty of making 2 copies of each database: one with all the attributes\n",
      "   and 1 with the 14 attributes actually used in past experiments.\n",
      "\n",
      "   The authors of the databases have requested:\n",
      "\n",
      "      ...that any publications resulting from the use of the data include the \n",
      "      names of the principal investigator responsible for the data collection\n",
      "      at each institution.  They would be:\n",
      "\n",
      "       1. Hungarian Institute of Cardiology. Budapest: Andras Janosi, M.D.\n",
      "       2. University Hospital, Zurich, Switzerland: William Steinbrunn, M.D.\n",
      "       3. University Hospital, Basel, Switzerland: Matthias Pfisterer, M.D.\n",
      "       4. V.A. Medical Center, Long Beach and Cleveland Clinic Foundation:\n",
      "\t  Robert Detrano, M.D., Ph.D.\n",
      "\n",
      "   Thanks in advance for abiding by this request.\n",
      "\n",
      "   David Aha\n",
      "   July 22, 1988\n",
      "   >>>>>>>>>>>>>>>>>>>>>>>>>>>>>>>>>>>>>>>>>>>>>>>>>>>>>>>>>>>>>>>>>>>>>>\n",
      "\n",
      "1. Title: Heart Disease Databases\n",
      "\n",
      "2. Source Information:\n",
      "   (a) Creators: \n",
      "       -- 1. Hungarian Institute of Cardiology. Budapest: Andras Janosi, M.D.\n",
      "       -- 2. University Hospital, Zurich, Switzerland: William Steinbrunn, M.D.\n",
      "       -- 3. University Hospital, Basel, Switzerland: Matthias Pfisterer, M.D.\n",
      "       -- 4. V.A. Medical Center, Long Beach and Cleveland Clinic Foundation:\n",
      "             Robert Detrano, M.D., Ph.D.\n",
      "   (b) Donor: David W. Aha (aha@ics.uci.edu) (714) 856-8779   \n",
      "   (c) Date: July, 1988\n",
      "\n",
      "3. Past Usage:\n",
      "    1. Detrano,~R., Janosi,~A., Steinbrunn,~W., Pfisterer,~M., Schmid,~J.,\n",
      "       Sandhu,~S., Guppy,~K., Lee,~S., \\& Froelicher,~V. (1989).  {\\it \n",
      "       International application of a new probability algorithm for the \n",
      "       diagnosis of coronary artery disease.}  {\\it American Journal of \n",
      "       Cardiology}, {\\it 64},304--310.\n",
      "       -- International Probability Analysis \n",
      "       -- Address: Robert Detrano, M.D.\n",
      "                   Cardiology 111-C\n",
      "                   V.A. Medical Center\n",
      "                   5901 E. 7th Street\n",
      "                   Long Beach, CA 90028\n",
      "       -- Results in percent accuracy: (for 0.5 probability threshold)\n",
      "             Data Name:  CDF    CADENZA\n",
      "          -- Hungarian   77     74\n",
      "             Long beach  79     77\n",
      "             Swiss       81     81\n",
      "          -- Approximately a 77% correct classification accuracy with a\n",
      "             logistic-regression-derived discriminant function\n",
      "    2. David W. Aha & Dennis Kibler\n",
      "       -- \n",
      "          \n",
      "          \n",
      "          -- Instance-based prediction of heart-disease presence with the \n",
      "             Cleveland database\n",
      "             -- NTgrowth: 77.0% accuracy\n",
      "             --       C4: 74.8% accuracy\n",
      "    3. John Gennari\n",
      "       -- Gennari, J.~H., Langley, P, \\& Fisher, D. (1989). Models of\n",
      "          incremental concept formation. {\\it Artificial Intelligence, 40},\n",
      "          11--61.\n",
      "       -- Results: \n",
      "          -- The CLASSIT conceptual clustering system achieved a 78.9% accuracy\n",
      "             on the Cleveland database.\n",
      "\n",
      "4. Relevant Information:\n",
      "     This database contains 76 attributes, but all published experiments\n",
      "     refer to using a subset of 14 of them.  In particular, the Cleveland\n",
      "     database is the only one that has been used by ML researchers to \n",
      "     this date.  The \"goal\" field refers to the presence of heart disease\n",
      "     in the patient.  It is integer valued from 0 (no presence) to 4.\n",
      "     Experiments with the Cleveland database have concentrated on simply\n",
      "     attempting to distinguish presence (values 1,2,3,4) from absence (value\n",
      "     0).  \n",
      "   \n",
      "     The names and social security numbers of the patients were recently \n",
      "     removed from the database, replaced with dummy values.\n",
      "\n",
      "     One file has been \"processed\", that one containing the Cleveland \n",
      "     database.  All four unprocessed files also exist in this directory.\n",
      "    \n",
      "5. Number of Instances: \n",
      "        Database:    # of instances:\n",
      "          Cleveland: 303\n",
      "          Hungarian: 294\n",
      "        Switzerland: 123\n",
      "      Long Beach VA: 200\n",
      "\n",
      "6. Number of Attributes: 76 (including the predicted attribute)\n",
      "\n",
      "7. Attribute Information:\n",
      "   -- Only 14 used\n",
      "      -- 1. #3  (age)       \n",
      "      -- 2. #4  (sex)       \n",
      "      -- 3. #9  (cp)        \n",
      "      -- 4. #10 (trestbps)  \n",
      "      -- 5. #12 (chol)      \n",
      "      -- 6. #16 (fbs)       \n",
      "      -- 7. #19 (restecg)   \n",
      "      -- 8. #32 (thalach)   \n",
      "      -- 9. #38 (exang)     \n",
      "      -- 10. #40 (oldpeak)   \n",
      "      -- 11. #41 (slope)     \n",
      "      -- 12. #44 (ca)        \n",
      "      -- 13. #51 (thal)      \n",
      "      -- 14. #58 (num)       (the predicted attribute)\n",
      "\n",
      "   -- Complete attribute documentation:\n",
      "      1 id: patient identification number\n",
      "      2 ccf: social security number (I replaced this with a dummy value of 0)\n",
      "      3 age: age in years\n",
      "      4 sex: sex (1 = male; 0 = female)\n",
      "      5 painloc: chest pain location (1 = substernal; 0 = otherwise)\n",
      "      6 painexer (1 = provoked by exertion; 0 = otherwise)\n",
      "      7 relrest (1 = relieved after rest; 0 = otherwise)\n",
      "      8 pncaden (sum of 5, 6, and 7)\n",
      "      9 cp: chest pain type\n",
      "        -- Value 1: typical angina\n",
      "        -- Value 2: atypical angina\n",
      "        -- Value 3: non-anginal pain\n",
      "        -- Value 4: asymptomatic\n",
      "     10 trestbps: resting blood pressure (in mm Hg on admission to the \n",
      "        hospital)\n",
      "     11 htn\n",
      "     12 chol: serum cholestoral in mg/dl\n",
      "     13 smoke: I believe this is 1 = yes; 0 = no (is or is not a smoker)\n",
      "     14 cigs (cigarettes per day)\n",
      "     15 years (number of years as a smoker)\n",
      "     16 fbs: (fasting blood sugar > 120 mg/dl)  (1 = true; 0 = false)\n",
      "     17 dm (1 = history of diabetes; 0 = no such history)\n",
      "     18 famhist: family history of coronary artery disease (1 = yes; 0 = no)\n",
      "     19 restecg: resting electrocardiographic results\n",
      "        -- Value 0: normal\n",
      "        -- Value 1: having ST-T wave abnormality (T wave inversions and/or ST \n",
      "                    elevation or depression of > 0.05 mV)\n",
      "        -- Value 2: showing probable or definite left ventricular hypertrophy\n",
      "                    by Estes' criteria\n",
      "     20 ekgmo (month of exercise ECG reading)\n",
      "     21 ekgday(day of exercise ECG reading)\n",
      "     22 ekgyr (year of exercise ECG reading)\n",
      "     23 dig (digitalis used furing exercise ECG: 1 = yes; 0 = no)\n",
      "     24 prop (Beta blocker used during exercise ECG: 1 = yes; 0 = no)\n",
      "     25 nitr (nitrates used during exercise ECG: 1 = yes; 0 = no)\n",
      "     26 pro (calcium channel blocker used during exercise ECG: 1 = yes; 0 = no)\n",
      "     27 diuretic (diuretic used used during exercise ECG: 1 = yes; 0 = no)\n",
      "     28 proto: exercise protocol\n",
      "          1 = Bruce     \n",
      "          2 = Kottus\n",
      "          3 = McHenry\n",
      "          4 = fast Balke\n",
      "          5 = Balke\n",
      "          6 = Noughton \n",
      "          7 = bike 150 kpa min/min  (Not sure if \"kpa min/min\" is what was \n",
      "              written!)\n",
      "          8 = bike 125 kpa min/min  \n",
      "          9 = bike 100 kpa min/min\n",
      "         10 = bike 75 kpa min/min\n",
      "         11 = bike 50 kpa min/min\n",
      "         12 = arm ergometer\n",
      "     29 thaldur: duration of exercise test in minutes\n",
      "     30 thaltime: time when ST measure depression was noted\n",
      "     31 met: mets achieved\n",
      "     32 thalach: maximum heart rate achieved\n",
      "     33 thalrest: resting heart rate\n",
      "     34 tpeakbps: peak exercise blood pressure (first of 2 parts)\n",
      "     35 tpeakbpd: peak exercise blood pressure (second of 2 parts)\n",
      "     36 dummy\n",
      "     37 trestbpd: resting blood pressure\n",
      "     38 exang: exercise induced angina (1 = yes; 0 = no)\n",
      "     39 xhypo: (1 = yes; 0 = no)\n",
      "     40 oldpeak = ST depression induced by exercise relative to rest\n",
      "     41 slope: the slope of the peak exercise ST segment\n",
      "        -- Value 1: upsloping\n",
      "        -- Value 2: flat\n",
      "        -- Value 3: downsloping\n",
      "     42 rldv5: height at rest\n",
      "     43 rldv5e: height at peak exercise\n",
      "     44 ca: number of major vessels (0-3) colored by flourosopy\n",
      "     45 restckm: irrelevant\n",
      "     46 exerckm: irrelevant\n",
      "     47 restef: rest raidonuclid (sp?) ejection fraction\n",
      "     48 restwm: rest wall (sp?) motion abnormality\n",
      "        0 = none\n",
      "        1 = mild or moderate\n",
      "        2 = moderate or severe\n",
      "        3 = akinesis or dyskmem (sp?)\n",
      "     49 exeref: exercise radinalid (sp?) ejection fraction\n",
      "     50 exerwm: exercise wall (sp?) motion \n",
      "     51 thal: 3 = normal; 6 = fixed defect; 7 = reversable defect\n",
      "     52 thalsev: not used\n",
      "     53 thalpul: not used\n",
      "     54 earlobe: not used\n",
      "     55 cmo: month of cardiac cath (sp?)  (perhaps \"call\")\n",
      "     56 cday: day of cardiac cath (sp?)\n",
      "     57 cyr: year of cardiac cath (sp?)\n",
      "     58 num: diagnosis of heart disease (angiographic disease status)\n",
      "        -- Value 0: < 50% diameter narrowing\n",
      "        -- Value 1: > 50% diameter narrowing\n",
      "        (in any major vessel: attributes 59 through 68 are vessels)\n",
      "     59 lmt\n",
      "     60 ladprox\n",
      "     61 laddist\n",
      "     62 diag\n",
      "     63 cxmain\n",
      "     64 ramus\n",
      "     65 om1\n",
      "     66 om2\n",
      "     67 rcaprox\n",
      "     68 rcadist\n",
      "     69 lvx1: not used\n",
      "     70 lvx2: not used\n",
      "     71 lvx3: not used\n",
      "     72 lvx4: not used\n",
      "     73 lvf: not used\n",
      "     74 cathef: not used\n",
      "     75 junk: not used\n",
      "     76 name: last name of patient \n",
      "\t(I replaced this with the dummy string \"name\")\n",
      "\n",
      "9. Missing Attribute Values: Several.  Distinguished with value -9.0.\n",
      "\n",
      "10. Class Distribution:\n",
      "        Database:      0   1   2   3   4 Total\n",
      "          Cleveland: 164  55  36  35  13   303\n",
      "          Hungarian: 188  37  26  28  15   294\n",
      "        Switzerland:   8  48  32  30   5   123\n",
      "      Long Beach VA:  51  56  41  42  10   200\n",
      "\n"
     ]
    }
   ],
   "source": [
    "with open(file_names[0]) as f:\n",
    "    print(f.read())"
   ]
  },
  {
   "cell_type": "markdown",
   "metadata": {},
   "source": [
    "### Data set summary\n",
    "\n",
    "The first 13 columns are features to predict heart disease in column 14 (num).\n",
    "\n",
    "num: diagnosis of heart disease (angiographic disease status)  \n",
    "- Value 0 (no disease): < 50% diameter narrowing\n",
    "- Value 1 (heart disease) : > 50% diameter narrowing"
   ]
  },
  {
   "cell_type": "markdown",
   "metadata": {},
   "source": [
    "### The data "
   ]
  },
  {
   "cell_type": "code",
   "execution_count": 4,
   "metadata": {},
   "outputs": [
    {
     "name": "stdout",
     "output_type": "stream",
     "text": [
      "28,1,2,130,132,0,2,185,0,0,?,?,?,0\n",
      "29,1,2,120,243,0,0,160,0,0,?,?,?,0\n",
      "29,1,2,140,?,0,0,170,0,0,?,?,?,0\n",
      "30,0,1,170,237,0,1,170,0,0,?,?,6,0\n",
      "31,0,2,100,219,0,1,150,0,0,?,?,?,0\n",
      "32,0,2,105,198,0,0,165,0,0,?,?,?,0\n",
      "32,1,2,110,225,0,0,184,0,0,?,?,?,0\n",
      "32,1,2,125,254,0,0,155,0,0,?,?,?,0\n",
      "33,1,3,120,298,0,0,185,0,0,?,?,?,0\n",
      "34,0,2,130,161,0,0,190,0,0,?,?,?,0\n"
     ]
    }
   ],
   "source": [
    "with open(file_names[1]) as f:\n",
    "    for _ in range(10):\n",
    "        print(f.readline(), end=\"\")"
   ]
  },
  {
   "cell_type": "markdown",
   "metadata": {},
   "source": [
    "## 2.2 Loading the data with Pandas\n",
    "\n",
    "See `pandas.ipynb` for more information on the pandas python library."
   ]
  },
  {
   "cell_type": "code",
   "execution_count": 5,
   "metadata": {},
   "outputs": [
    {
     "data": {
      "text/html": [
       "<div>\n",
       "<style scoped>\n",
       "    .dataframe tbody tr th:only-of-type {\n",
       "        vertical-align: middle;\n",
       "    }\n",
       "\n",
       "    .dataframe tbody tr th {\n",
       "        vertical-align: top;\n",
       "    }\n",
       "\n",
       "    .dataframe thead th {\n",
       "        text-align: right;\n",
       "    }\n",
       "</style>\n",
       "<table border=\"1\" class=\"dataframe\">\n",
       "  <thead>\n",
       "    <tr style=\"text-align: right;\">\n",
       "      <th></th>\n",
       "      <th>age</th>\n",
       "      <th>sex</th>\n",
       "      <th>cp</th>\n",
       "      <th>trestbps</th>\n",
       "      <th>chol</th>\n",
       "      <th>fbs</th>\n",
       "      <th>restecg</th>\n",
       "      <th>thalach</th>\n",
       "      <th>exang</th>\n",
       "      <th>oldpeak</th>\n",
       "      <th>slope</th>\n",
       "      <th>ca</th>\n",
       "      <th>thal</th>\n",
       "      <th>num</th>\n",
       "    </tr>\n",
       "  </thead>\n",
       "  <tbody>\n",
       "    <tr>\n",
       "      <th>0</th>\n",
       "      <td>28</td>\n",
       "      <td>1</td>\n",
       "      <td>2</td>\n",
       "      <td>130.0</td>\n",
       "      <td>132.0</td>\n",
       "      <td>0.0</td>\n",
       "      <td>2.0</td>\n",
       "      <td>185.0</td>\n",
       "      <td>0.0</td>\n",
       "      <td>0.0</td>\n",
       "      <td>NaN</td>\n",
       "      <td>NaN</td>\n",
       "      <td>NaN</td>\n",
       "      <td>0</td>\n",
       "    </tr>\n",
       "    <tr>\n",
       "      <th>1</th>\n",
       "      <td>29</td>\n",
       "      <td>1</td>\n",
       "      <td>2</td>\n",
       "      <td>120.0</td>\n",
       "      <td>243.0</td>\n",
       "      <td>0.0</td>\n",
       "      <td>0.0</td>\n",
       "      <td>160.0</td>\n",
       "      <td>0.0</td>\n",
       "      <td>0.0</td>\n",
       "      <td>NaN</td>\n",
       "      <td>NaN</td>\n",
       "      <td>NaN</td>\n",
       "      <td>0</td>\n",
       "    </tr>\n",
       "    <tr>\n",
       "      <th>2</th>\n",
       "      <td>29</td>\n",
       "      <td>1</td>\n",
       "      <td>2</td>\n",
       "      <td>140.0</td>\n",
       "      <td>NaN</td>\n",
       "      <td>0.0</td>\n",
       "      <td>0.0</td>\n",
       "      <td>170.0</td>\n",
       "      <td>0.0</td>\n",
       "      <td>0.0</td>\n",
       "      <td>NaN</td>\n",
       "      <td>NaN</td>\n",
       "      <td>NaN</td>\n",
       "      <td>0</td>\n",
       "    </tr>\n",
       "    <tr>\n",
       "      <th>3</th>\n",
       "      <td>30</td>\n",
       "      <td>0</td>\n",
       "      <td>1</td>\n",
       "      <td>170.0</td>\n",
       "      <td>237.0</td>\n",
       "      <td>0.0</td>\n",
       "      <td>1.0</td>\n",
       "      <td>170.0</td>\n",
       "      <td>0.0</td>\n",
       "      <td>0.0</td>\n",
       "      <td>NaN</td>\n",
       "      <td>NaN</td>\n",
       "      <td>6.0</td>\n",
       "      <td>0</td>\n",
       "    </tr>\n",
       "    <tr>\n",
       "      <th>4</th>\n",
       "      <td>31</td>\n",
       "      <td>0</td>\n",
       "      <td>2</td>\n",
       "      <td>100.0</td>\n",
       "      <td>219.0</td>\n",
       "      <td>0.0</td>\n",
       "      <td>1.0</td>\n",
       "      <td>150.0</td>\n",
       "      <td>0.0</td>\n",
       "      <td>0.0</td>\n",
       "      <td>NaN</td>\n",
       "      <td>NaN</td>\n",
       "      <td>NaN</td>\n",
       "      <td>0</td>\n",
       "    </tr>\n",
       "  </tbody>\n",
       "</table>\n",
       "</div>"
      ],
      "text/plain": [
       "   age  sex  cp  trestbps   chol  fbs  restecg  thalach  exang  oldpeak  \\\n",
       "0   28    1   2     130.0  132.0  0.0      2.0    185.0    0.0      0.0   \n",
       "1   29    1   2     120.0  243.0  0.0      0.0    160.0    0.0      0.0   \n",
       "2   29    1   2     140.0    NaN  0.0      0.0    170.0    0.0      0.0   \n",
       "3   30    0   1     170.0  237.0  0.0      1.0    170.0    0.0      0.0   \n",
       "4   31    0   2     100.0  219.0  0.0      1.0    150.0    0.0      0.0   \n",
       "\n",
       "   slope  ca  thal  num  \n",
       "0    NaN NaN   NaN    0  \n",
       "1    NaN NaN   NaN    0  \n",
       "2    NaN NaN   NaN    0  \n",
       "3    NaN NaN   6.0    0  \n",
       "4    NaN NaN   NaN    0  "
      ]
     },
     "execution_count": 5,
     "metadata": {},
     "output_type": "execute_result"
    }
   ],
   "source": [
    "data = pd.read_csv('processed.hungarian.data', \n",
    "                   na_values='?', \n",
    "                   names=[ 'age', 'sex', 'cp', 'trestbps', 'chol', 'fbs',\n",
    "                            'restecg', 'thalach', 'exang', 'oldpeak', 'slope',\n",
    "                            'ca', 'thal', 'num'])\n",
    "data.head()"
   ]
  },
  {
   "cell_type": "code",
   "execution_count": 6,
   "metadata": {},
   "outputs": [
    {
     "name": "stdout",
     "output_type": "stream",
     "text": [
      "<class 'pandas.core.frame.DataFrame'>\n",
      "RangeIndex: 294 entries, 0 to 293\n",
      "Data columns (total 14 columns):\n",
      " #   Column    Non-Null Count  Dtype  \n",
      "---  ------    --------------  -----  \n",
      " 0   age       294 non-null    int64  \n",
      " 1   sex       294 non-null    int64  \n",
      " 2   cp        294 non-null    int64  \n",
      " 3   trestbps  293 non-null    float64\n",
      " 4   chol      271 non-null    float64\n",
      " 5   fbs       286 non-null    float64\n",
      " 6   restecg   293 non-null    float64\n",
      " 7   thalach   293 non-null    float64\n",
      " 8   exang     293 non-null    float64\n",
      " 9   oldpeak   294 non-null    float64\n",
      " 10  slope     104 non-null    float64\n",
      " 11  ca        3 non-null      float64\n",
      " 12  thal      28 non-null     float64\n",
      " 13  num       294 non-null    int64  \n",
      "dtypes: float64(10), int64(4)\n",
      "memory usage: 32.3 KB\n"
     ]
    }
   ],
   "source": [
    "data.info()"
   ]
  },
  {
   "cell_type": "markdown",
   "metadata": {},
   "source": [
    "### Drop columns with many missing values "
   ]
  },
  {
   "cell_type": "code",
   "execution_count": 7,
   "metadata": {},
   "outputs": [
    {
     "name": "stdout",
     "output_type": "stream",
     "text": [
      "<class 'pandas.core.frame.DataFrame'>\n",
      "RangeIndex: 294 entries, 0 to 293\n",
      "Data columns (total 11 columns):\n",
      " #   Column    Non-Null Count  Dtype  \n",
      "---  ------    --------------  -----  \n",
      " 0   age       294 non-null    int64  \n",
      " 1   sex       294 non-null    int64  \n",
      " 2   cp        294 non-null    int64  \n",
      " 3   trestbps  293 non-null    float64\n",
      " 4   chol      271 non-null    float64\n",
      " 5   fbs       286 non-null    float64\n",
      " 6   restecg   293 non-null    float64\n",
      " 7   thalach   293 non-null    float64\n",
      " 8   exang     293 non-null    float64\n",
      " 9   oldpeak   294 non-null    float64\n",
      " 10  num       294 non-null    int64  \n",
      "dtypes: float64(7), int64(4)\n",
      "memory usage: 25.4 KB\n"
     ]
    }
   ],
   "source": [
    "data = data.drop(columns=['slope', 'ca', 'thal'])\n",
    "data.info()"
   ]
  },
  {
   "cell_type": "markdown",
   "metadata": {},
   "source": [
    "### Fill missing values with the most frequent value"
   ]
  },
  {
   "cell_type": "code",
   "execution_count": 8,
   "metadata": {},
   "outputs": [
    {
     "name": "stdout",
     "output_type": "stream",
     "text": [
      "<class 'pandas.core.frame.DataFrame'>\n",
      "RangeIndex: 294 entries, 0 to 293\n",
      "Data columns (total 11 columns):\n",
      " #   Column    Non-Null Count  Dtype  \n",
      "---  ------    --------------  -----  \n",
      " 0   age       294 non-null    int64  \n",
      " 1   sex       294 non-null    int64  \n",
      " 2   cp        294 non-null    int64  \n",
      " 3   trestbps  294 non-null    float64\n",
      " 4   chol      294 non-null    float64\n",
      " 5   fbs       294 non-null    float64\n",
      " 6   restecg   294 non-null    float64\n",
      " 7   thalach   294 non-null    float64\n",
      " 8   exang     294 non-null    float64\n",
      " 9   oldpeak   294 non-null    float64\n",
      " 10  num       294 non-null    int64  \n",
      "dtypes: float64(7), int64(4)\n",
      "memory usage: 25.4 KB\n"
     ]
    }
   ],
   "source": [
    "data = data.fillna(data.mode().loc[0])\n",
    "data.info()"
   ]
  },
  {
   "cell_type": "code",
   "execution_count": 9,
   "metadata": {},
   "outputs": [
    {
     "data": {
      "text/html": [
       "<div>\n",
       "<style scoped>\n",
       "    .dataframe tbody tr th:only-of-type {\n",
       "        vertical-align: middle;\n",
       "    }\n",
       "\n",
       "    .dataframe tbody tr th {\n",
       "        vertical-align: top;\n",
       "    }\n",
       "\n",
       "    .dataframe thead th {\n",
       "        text-align: right;\n",
       "    }\n",
       "</style>\n",
       "<table border=\"1\" class=\"dataframe\">\n",
       "  <thead>\n",
       "    <tr style=\"text-align: right;\">\n",
       "      <th></th>\n",
       "      <th>age</th>\n",
       "      <th>sex</th>\n",
       "      <th>cp</th>\n",
       "      <th>trestbps</th>\n",
       "      <th>chol</th>\n",
       "      <th>fbs</th>\n",
       "      <th>restecg</th>\n",
       "      <th>thalach</th>\n",
       "      <th>exang</th>\n",
       "      <th>oldpeak</th>\n",
       "      <th>num</th>\n",
       "    </tr>\n",
       "  </thead>\n",
       "  <tbody>\n",
       "    <tr>\n",
       "      <th>count</th>\n",
       "      <td>294.000000</td>\n",
       "      <td>294.000000</td>\n",
       "      <td>294.000000</td>\n",
       "      <td>294.000000</td>\n",
       "      <td>294.000000</td>\n",
       "      <td>294.000000</td>\n",
       "      <td>294.000000</td>\n",
       "      <td>294.000000</td>\n",
       "      <td>294.000000</td>\n",
       "      <td>294.000000</td>\n",
       "      <td>294.000000</td>\n",
       "    </tr>\n",
       "    <tr>\n",
       "      <th>mean</th>\n",
       "      <td>47.826531</td>\n",
       "      <td>0.724490</td>\n",
       "      <td>2.982993</td>\n",
       "      <td>132.540816</td>\n",
       "      <td>249.217687</td>\n",
       "      <td>0.068027</td>\n",
       "      <td>0.217687</td>\n",
       "      <td>139.166667</td>\n",
       "      <td>0.302721</td>\n",
       "      <td>0.586054</td>\n",
       "      <td>0.360544</td>\n",
       "    </tr>\n",
       "    <tr>\n",
       "      <th>std</th>\n",
       "      <td>7.811812</td>\n",
       "      <td>0.447533</td>\n",
       "      <td>0.965117</td>\n",
       "      <td>17.611760</td>\n",
       "      <td>65.189618</td>\n",
       "      <td>0.252222</td>\n",
       "      <td>0.460257</td>\n",
       "      <td>23.557991</td>\n",
       "      <td>0.460219</td>\n",
       "      <td>0.908648</td>\n",
       "      <td>0.480977</td>\n",
       "    </tr>\n",
       "    <tr>\n",
       "      <th>min</th>\n",
       "      <td>28.000000</td>\n",
       "      <td>0.000000</td>\n",
       "      <td>1.000000</td>\n",
       "      <td>92.000000</td>\n",
       "      <td>85.000000</td>\n",
       "      <td>0.000000</td>\n",
       "      <td>0.000000</td>\n",
       "      <td>82.000000</td>\n",
       "      <td>0.000000</td>\n",
       "      <td>0.000000</td>\n",
       "      <td>0.000000</td>\n",
       "    </tr>\n",
       "    <tr>\n",
       "      <th>25%</th>\n",
       "      <td>42.000000</td>\n",
       "      <td>0.000000</td>\n",
       "      <td>2.000000</td>\n",
       "      <td>120.000000</td>\n",
       "      <td>211.250000</td>\n",
       "      <td>0.000000</td>\n",
       "      <td>0.000000</td>\n",
       "      <td>122.000000</td>\n",
       "      <td>0.000000</td>\n",
       "      <td>0.000000</td>\n",
       "      <td>0.000000</td>\n",
       "    </tr>\n",
       "    <tr>\n",
       "      <th>50%</th>\n",
       "      <td>49.000000</td>\n",
       "      <td>1.000000</td>\n",
       "      <td>3.000000</td>\n",
       "      <td>130.000000</td>\n",
       "      <td>237.000000</td>\n",
       "      <td>0.000000</td>\n",
       "      <td>0.000000</td>\n",
       "      <td>140.000000</td>\n",
       "      <td>0.000000</td>\n",
       "      <td>0.000000</td>\n",
       "      <td>0.000000</td>\n",
       "    </tr>\n",
       "    <tr>\n",
       "      <th>75%</th>\n",
       "      <td>54.000000</td>\n",
       "      <td>1.000000</td>\n",
       "      <td>4.000000</td>\n",
       "      <td>140.000000</td>\n",
       "      <td>277.000000</td>\n",
       "      <td>0.000000</td>\n",
       "      <td>0.000000</td>\n",
       "      <td>155.000000</td>\n",
       "      <td>1.000000</td>\n",
       "      <td>1.000000</td>\n",
       "      <td>1.000000</td>\n",
       "    </tr>\n",
       "    <tr>\n",
       "      <th>max</th>\n",
       "      <td>66.000000</td>\n",
       "      <td>1.000000</td>\n",
       "      <td>4.000000</td>\n",
       "      <td>200.000000</td>\n",
       "      <td>603.000000</td>\n",
       "      <td>1.000000</td>\n",
       "      <td>2.000000</td>\n",
       "      <td>190.000000</td>\n",
       "      <td>1.000000</td>\n",
       "      <td>5.000000</td>\n",
       "      <td>1.000000</td>\n",
       "    </tr>\n",
       "  </tbody>\n",
       "</table>\n",
       "</div>"
      ],
      "text/plain": [
       "              age         sex          cp    trestbps        chol         fbs  \\\n",
       "count  294.000000  294.000000  294.000000  294.000000  294.000000  294.000000   \n",
       "mean    47.826531    0.724490    2.982993  132.540816  249.217687    0.068027   \n",
       "std      7.811812    0.447533    0.965117   17.611760   65.189618    0.252222   \n",
       "min     28.000000    0.000000    1.000000   92.000000   85.000000    0.000000   \n",
       "25%     42.000000    0.000000    2.000000  120.000000  211.250000    0.000000   \n",
       "50%     49.000000    1.000000    3.000000  130.000000  237.000000    0.000000   \n",
       "75%     54.000000    1.000000    4.000000  140.000000  277.000000    0.000000   \n",
       "max     66.000000    1.000000    4.000000  200.000000  603.000000    1.000000   \n",
       "\n",
       "          restecg     thalach       exang     oldpeak         num  \n",
       "count  294.000000  294.000000  294.000000  294.000000  294.000000  \n",
       "mean     0.217687  139.166667    0.302721    0.586054    0.360544  \n",
       "std      0.460257   23.557991    0.460219    0.908648    0.480977  \n",
       "min      0.000000   82.000000    0.000000    0.000000    0.000000  \n",
       "25%      0.000000  122.000000    0.000000    0.000000    0.000000  \n",
       "50%      0.000000  140.000000    0.000000    0.000000    0.000000  \n",
       "75%      0.000000  155.000000    1.000000    1.000000    1.000000  \n",
       "max      2.000000  190.000000    1.000000    5.000000    1.000000  "
      ]
     },
     "execution_count": 9,
     "metadata": {},
     "output_type": "execute_result"
    }
   ],
   "source": [
    "data.describe()"
   ]
  },
  {
   "cell_type": "code",
   "execution_count": 10,
   "metadata": {},
   "outputs": [
    {
     "data": {
      "text/plain": [
       "0    188\n",
       "1    106\n",
       "Name: num, dtype: int64"
      ]
     },
     "execution_count": 10,
     "metadata": {},
     "output_type": "execute_result"
    }
   ],
   "source": [
    "data['num'].value_counts()"
   ]
  },
  {
   "cell_type": "markdown",
   "metadata": {},
   "source": [
    "### renaming values in `'num'` column"
   ]
  },
  {
   "cell_type": "code",
   "execution_count": 11,
   "metadata": {},
   "outputs": [],
   "source": [
    "data['num'] = data['num'].replace(to_replace={0:'healthy', 1:'heart disease'})"
   ]
  },
  {
   "cell_type": "markdown",
   "metadata": {},
   "source": [
    "## 2.3 Getting an overview by visualizing the data\n",
    "\n",
    "See `visualization.ipynb` for more information on plotting in python."
   ]
  },
  {
   "cell_type": "markdown",
   "metadata": {},
   "source": [
    "### Comparing healthy and diseased feature values"
   ]
  },
  {
   "cell_type": "code",
   "execution_count": 12,
   "metadata": {},
   "outputs": [
    {
     "data": {
      "image/png": "[encoded data removed]",
      "text/plain": [
       "<Figure size 648x864 with 10 Axes>"
      ]
     },
     "metadata": {
      "needs_background": "light"
     },
     "output_type": "display_data"
    }
   ],
   "source": [
    "fig, axs = plt.subplots(ncols=2, nrows=(len(data.columns)-1)//2, figsize=(9, 12))\n",
    "\n",
    "for col, ax in zip(data.columns[:-1], axs.flatten()):\n",
    "    \n",
    "    sns.histplot(data=data, x=col, hue='num', multiple=\"stack\", ax=ax)\n",
    "    \n",
    "plt.tight_layout()"
   ]
  },
  {
   "cell_type": "markdown",
   "metadata": {},
   "source": [
    "### Pair-wise correlations of numerical features"
   ]
  },
  {
   "cell_type": "code",
   "execution_count": 13,
   "metadata": {},
   "outputs": [
    {
     "data": {
      "text/plain": [
       "<seaborn.axisgrid.PairGrid at 0x12541d310>"
      ]
     },
     "execution_count": 13,
     "metadata": {},
     "output_type": "execute_result"
    },
    {
     "data": {
      "image/png": "[encoded data removed]",
      "text/plain": [
       "<Figure size 643.875x540 with 12 Axes>"
      ]
     },
     "metadata": {
      "needs_background": "light"
     },
     "output_type": "display_data"
    }
   ],
   "source": [
    "sns.pairplot(vars=['age', 'trestbps', 'chol'],data=data, hue='num')"
   ]
  },
  {
   "cell_type": "markdown",
   "metadata": {},
   "source": [
    "## 2.4 Create feature matrix and target vector \n",
    "The feature matrix $X$ is the input to the model.  \n",
    "The target vector $y$ contains the values the model should produce, the desired output.  \n",
    "\n",
    "See [Python Data Science Handbook 05.02-Introducing-Scikit-Learn](https://github.com/jakevdp/PythonDataScienceHandbook/blob/8a34a4f653bdbdc01415a94dc20d4e9b97438965/notebooks/05.02-Introducing-Scikit-Learn.ipynb) for more information."
   ]
  },
  {
   "cell_type": "code",
   "execution_count": 14,
   "metadata": {},
   "outputs": [
    {
     "name": "stdout",
     "output_type": "stream",
     "text": [
      "(294, 10)\n",
      "(294,)\n"
     ]
    }
   ],
   "source": [
    "X = data.drop(columns='num')\n",
    "y = data['num']\n",
    "print(X.shape)\n",
    "print(y.shape)"
   ]
  },
  {
   "cell_type": "markdown",
   "metadata": {},
   "source": [
    "## 2.5 Create training and validation sets\n",
    "\n",
    "We split the data into two sets:\n",
    "1. Training set - used to create the machine learning model\n",
    "1. Validation set - used to evaluate model performance\n"
   ]
  },
  {
   "cell_type": "code",
   "execution_count": 15,
   "metadata": {},
   "outputs": [
    {
     "name": "stdout",
     "output_type": "stream",
     "text": [
      "(264, 10)\n",
      "(30, 10)\n"
     ]
    }
   ],
   "source": [
    "from sklearn.model_selection import train_test_split\n",
    "\n",
    "X_train, X_val, y_train, y_val = train_test_split(X, y, \n",
    "                                                    test_size=0.1,\n",
    "                                                    stratify=y,\n",
    "                                                    random_state=31)\n",
    "\n",
    "print(X_train.shape)\n",
    "print(X_val.shape)"
   ]
  },
  {
   "cell_type": "code",
   "execution_count": 16,
   "metadata": {},
   "outputs": [
    {
     "data": {
      "text/plain": [
       "healthy          169\n",
       "heart disease     95\n",
       "Name: num, dtype: int64"
      ]
     },
     "execution_count": 16,
     "metadata": {},
     "output_type": "execute_result"
    }
   ],
   "source": [
    "y_train.value_counts()"
   ]
  },
  {
   "cell_type": "code",
   "execution_count": 17,
   "metadata": {},
   "outputs": [
    {
     "data": {
      "text/plain": [
       "healthy          19\n",
       "heart disease    11\n",
       "Name: num, dtype: int64"
      ]
     },
     "execution_count": 17,
     "metadata": {},
     "output_type": "execute_result"
    }
   ],
   "source": [
    "y_val.value_counts()"
   ]
  },
  {
   "cell_type": "markdown",
   "metadata": {},
   "source": [
    "# 3. Machine learning: Supervised classification\n",
    "## 3.1 Train a linear support vector classifier `SVC(kernel='linear')` \n",
    "\n",
    "See [Python Data Science Handbook 05.07-Support-Vector-Machines](https://github.com/jakevdp/PythonDataScienceHandbook/blob/master/notebooks/05.07-Support-Vector-Machines.ipynb) for more information on linear support vector classifiers.\n"
   ]
  },
  {
   "cell_type": "code",
   "execution_count": 18,
   "metadata": {},
   "outputs": [
    {
     "data": {
      "text/plain": [
       "SVC(kernel='linear')"
      ]
     },
     "execution_count": 18,
     "metadata": {},
     "output_type": "execute_result"
    }
   ],
   "source": [
    "from sklearn.svm import SVC\n",
    "\n",
    "model = SVC(kernel='linear')\n",
    "model.fit(X_train, y_train)"
   ]
  },
  {
   "cell_type": "markdown",
   "metadata": {},
   "source": [
    "## 3.2 Compare training and validation accuracy\n",
    "\n",
    "**Important:** We assess the performance of the model on data the model has not seen yet. This set of data is called the *validation* set. The data used to create the model is used the *training* set.\n",
    "\n",
    "\n",
    "See [Python Data Science Handbook 05.03-Hyperparameters-and-Model-Validation](https://github.com/jakevdp/PythonDataScienceHandbook/blob/master/notebooks/05.03-Hyperparameters-and-Model-Validation.ipynb) for more information on interpreting model performance"
   ]
  },
  {
   "cell_type": "code",
   "execution_count": 19,
   "metadata": {},
   "outputs": [
    {
     "data": {
      "text/plain": [
       "0.8522727272727273"
      ]
     },
     "execution_count": 19,
     "metadata": {},
     "output_type": "execute_result"
    }
   ],
   "source": [
    "model.score(X_train, y_train)"
   ]
  },
  {
   "cell_type": "code",
   "execution_count": 20,
   "metadata": {},
   "outputs": [
    {
     "data": {
      "text/plain": [
       "0.8333333333333334"
      ]
     },
     "execution_count": 20,
     "metadata": {},
     "output_type": "execute_result"
    }
   ],
   "source": [
    "model.score(X_val, y_val)"
   ]
  },
  {
   "cell_type": "markdown",
   "metadata": {},
   "source": [
    "Are we over or underfitting? \n",
    "\n",
    "Looks pretty close. We are likely underfitting and would need a more complex model to increase test set accuracy.\n",
    "\n",
    "Lets try and play with `C`. We need more/**less** regularization and a **higher**/lower `C`."
   ]
  },
  {
   "cell_type": "code",
   "execution_count": 21,
   "metadata": {},
   "outputs": [
    {
     "name": "stdout",
     "output_type": "stream",
     "text": [
      "0.8560606060606061\n",
      "0.8666666666666667\n"
     ]
    }
   ],
   "source": [
    "model = SVC(kernel='linear', C=100)\n",
    "model.fit(X_train, y_train)\n",
    "print(model.score(X_train, y_train))\n",
    "print(model.score(X_val, y_val))"
   ]
  },
  {
   "cell_type": "markdown",
   "metadata": {},
   "source": [
    "Scores are very close, but more importantly validation score is improved. We will compare these results to a non-linear model. We will get back to it next week."
   ]
  },
  {
   "cell_type": "markdown",
   "metadata": {},
   "source": [
    "## 3.3 The confusion matrix \n",
    "\n",
    "More information on [wikipedia confusion matrix](https://en.wikipedia.org/wiki/Confusion_matrix)"
   ]
  },
  {
   "cell_type": "code",
   "execution_count": 22,
   "metadata": {},
   "outputs": [
    {
     "data": {
      "text/plain": [
       "Text(91.68, 0.5, 'true value')"
      ]
     },
     "execution_count": 22,
     "metadata": {},
     "output_type": "execute_result"
    },
    {
     "data": {
      "image/png": "[encoded data removed]",
      "text/plain": [
       "<Figure size 432x288 with 1 Axes>"
      ]
     },
     "metadata": {
      "needs_background": "light"
     },
     "output_type": "display_data"
    }
   ],
   "source": [
    "from sklearn.metrics import confusion_matrix\n",
    "\n",
    "mat = confusion_matrix(y_val, model.predict(X_val))\n",
    "\n",
    "\n",
    "labels = ['healthy', 'disease']\n",
    "\n",
    "sns.heatmap(mat, square=True, annot=True, cbar=False, \n",
    "            xticklabels=labels,\n",
    "            yticklabels=labels)\n",
    "plt.xlabel('predicted value')\n",
    "plt.ylabel('true value')"
   ]
  },
  {
   "cell_type": "markdown",
   "metadata": {},
   "source": [
    "There are two cases were the classifier says *no heart disease* but these patients do have a *heart disease*. These are  false negatives - we miss patients with the disease.\n",
    "\n",
    "There are two cases were the classifier says *heart disease* but these patients do *not* have a *heart disease*. These are false positives - we diagnose disease when there is none."
   ]
  },
  {
   "cell_type": "markdown",
   "metadata": {},
   "source": [
    "## 3.4 Summarize the different scores "
   ]
  },
  {
   "cell_type": "code",
   "execution_count": 23,
   "metadata": {},
   "outputs": [
    {
     "name": "stdout",
     "output_type": "stream",
     "text": [
      "training accuracy (all data) 0.856\n",
      "validation accuracy (new data) 0.867\n"
     ]
    }
   ],
   "source": [
    "model = SVC(kernel='linear', C=100)\n",
    "model.fit(X_train, y_train)\n",
    "\n",
    "\n",
    "print('training accuracy (all data) {:.3f}'.format(model.score(X_train, y_train)))\n",
    "print('validation accuracy (new data) {:.3f}'.format(model.score(X_val, y_val)))"
   ]
  },
  {
   "cell_type": "code",
   "execution_count": null,
   "metadata": {},
   "outputs": [],
   "source": []
  }
 ],
 "metadata": {
  "kernelspec": {
   "display_name": "Python 3",
   "language": "python",
   "name": "python3"
  },
  "language_info": {
   "codemirror_mode": {
    "name": "ipython",
    "version": 3
   },
   "file_extension": ".py",
   "mimetype": "text/x-python",
   "name": "python",
   "nbconvert_exporter": "python",
   "pygments_lexer": "ipython3",
   "version": "3.8.8"
  }
 },
 "nbformat": 4,
 "nbformat_minor": 4
}
